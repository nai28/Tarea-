{
 "cells": [
  {
   "cell_type": "markdown",
   "metadata": {},
   "source": [
    "## Tarea 1 "
   ]
  },
  {
   "cell_type": "code",
   "execution_count": 3,
   "metadata": {},
   "outputs": [],
   "source": [
    "#if not "
   ]
  },
  {
   "cell_type": "code",
   "execution_count": 6,
   "metadata": {},
   "outputs": [],
   "source": [
    "c=9\n",
    "d=5"
   ]
  },
  {
   "cell_type": "code",
   "execution_count": 10,
   "metadata": {},
   "outputs": [
    {
     "name": "stdout",
     "output_type": "stream",
     "text": [
      "es correcto\n"
     ]
    }
   ],
   "source": [
    "if not c<15 or d>3:\n",
    "   print \"es correcto\" "
   ]
  },
  {
   "cell_type": "code",
   "execution_count": 22,
   "metadata": {},
   "outputs": [
    {
     "name": "stdout",
     "output_type": "stream",
     "text": [
      "es correcto\n"
     ]
    }
   ],
   "source": [
    "if not c<8 or d>3:\n",
    "    print \"es correcto\""
   ]
  },
  {
   "cell_type": "code",
   "execution_count": 25,
   "metadata": {
    "collapsed": true
   },
   "outputs": [],
   "source": [
    "if not c<15 or d>10:\n",
    "    print \"es correcto\"\n",
    "    "
   ]
  },
  {
   "cell_type": "code",
   "execution_count": 26,
   "metadata": {},
   "outputs": [
    {
     "name": "stdout",
     "output_type": "stream",
     "text": [
      "es correcto\n"
     ]
    }
   ],
   "source": [
    "if not c<8 or d>10:\n",
    "    print \"es correcto\""
   ]
  },
  {
   "cell_type": "code",
   "execution_count": 28,
   "metadata": {},
   "outputs": [
    {
     "name": "stdout",
     "output_type": "stream",
     "text": [
      "es correcto\n"
     ]
    }
   ],
   "source": [
    "if not d<2 or c<10:\n",
    "    print \"es correcto\""
   ]
  },
  {
   "cell_type": "code",
   "execution_count": 27,
   "metadata": {},
   "outputs": [
    {
     "name": "stdout",
     "output_type": "stream",
     "text": [
      "es correcto\n"
     ]
    }
   ],
   "source": [
    "if not c<8 or d<10:\n",
    "    print \"es correcto\""
   ]
  },
  {
   "cell_type": "code",
   "execution_count": 20,
   "metadata": {},
   "outputs": [],
   "source": [
    "if not c<15 and d>3: \n",
    "   print \"asi es\"\n"
   ]
  },
  {
   "cell_type": "code",
   "execution_count": 19,
   "metadata": {},
   "outputs": [],
   "source": [
    "if not c<15:\n",
    "    print \"va que va\""
   ]
  },
  {
   "cell_type": "markdown",
   "metadata": {},
   "source": [
    "el \"if not\" imprime en tres casos cuando ambas son indicaciones son ciertas, cuando la segunda indicación es correcta o cuando ambas son falsas, tambien solo funciona con \"or\" que nos indica opciones. por lo tanto if not funciona para dos opciones. "
   ]
  }
 ],
 "metadata": {
  "kernelspec": {
   "display_name": "Python 2",
   "language": "python",
   "name": "python2"
  },
  "language_info": {
   "codemirror_mode": {
    "name": "ipython",
    "version": 2
   },
   "file_extension": ".py",
   "mimetype": "text/x-python",
   "name": "python",
   "nbconvert_exporter": "python",
   "pygments_lexer": "ipython2",
   "version": "2.7.14"
  }
 },
 "nbformat": 4,
 "nbformat_minor": 2
}
